{
 "cells": [
  {
   "cell_type": "code",
   "execution_count": 2,
   "metadata": {},
   "outputs": [
    {
     "name": "stdout",
     "output_type": "stream",
     "text": [
      "Twinkle Twinkle Little Star, \n",
      "      How i wonder what you are! \n",
      "            Up above the world so high, \n",
      "            Like a diamond in the sky.\n",
      "Twinkle Twinkle Little Star, \n",
      "      How i wonder what you are! \n"
     ]
    }
   ],
   "source": [
    "print(\"Twinkle Twinkle Little Star, \")\n",
    "print(\"      How i wonder what you are! \")\n",
    "print(\"            Up above the world so high, \")\n",
    "print(\"            Like a diamond in the sky.\")\n",
    "print(\"Twinkle Twinkle Little Star, \")\n",
    "print(\"      How i wonder what you are! \")"
   ]
  },
  {
   "cell_type": "code",
   "execution_count": 3,
   "metadata": {},
   "outputs": [
    {
     "name": "stdout",
     "output_type": "stream",
     "text": [
      "enter the version which you are using...!3.7\n"
     ]
    },
    {
     "data": {
      "text/plain": [
       "3.7"
      ]
     },
     "execution_count": 3,
     "metadata": {},
     "output_type": "execute_result"
    }
   ],
   "source": [
    "x = float(input(\"enter the version which you are using...!\"))\n",
    "x"
   ]
  },
  {
   "cell_type": "code",
   "execution_count": 4,
   "metadata": {},
   "outputs": [
    {
     "name": "stdout",
     "output_type": "stream",
     "text": [
      "enter the radius...5\n",
      "78.55\n"
     ]
    }
   ],
   "source": [
    "r = int(input(\"enter the radius...\"))\n",
    "A = 3.142 * r * r\n",
    "print(A)"
   ]
  },
  {
   "cell_type": "code",
   "execution_count": 5,
   "metadata": {},
   "outputs": [
    {
     "name": "stdout",
     "output_type": "stream",
     "text": [
      "enter the date...13\n",
      "enter the month...12\n",
      "enter the year...2019\n",
      "Today's date is =  13 / 12 / 2019\n"
     ]
    }
   ],
   "source": [
    "x = int(input(\"enter the date...\"))\n",
    "y = int(input(\"enter the month...\"))\n",
    "z = int(input(\"enter the year...\"))\n",
    "print(\"Today's date is = \" , x , \"/\" , y , \"/\" , z)"
   ]
  },
  {
   "cell_type": "code",
   "execution_count": 9,
   "metadata": {},
   "outputs": [
    {
     "data": {
      "text/plain": [
       "'KHAN MAHRUKH'"
      ]
     },
     "execution_count": 9,
     "metadata": {},
     "output_type": "execute_result"
    }
   ],
   "source": [
    "a = \"MAHRUKH\"\n",
    "b = \"KHAN\"\n",
    "t = b + \" \" + a\n",
    "t"
   ]
  },
  {
   "cell_type": "code",
   "execution_count": 8,
   "metadata": {},
   "outputs": [
    {
     "name": "stdout",
     "output_type": "stream",
     "text": [
      "enter first number...10\n",
      "enter second number...20\n",
      "30\n"
     ]
    }
   ],
   "source": [
    "a = int(input(\"enter first number...\"))\n",
    "b = int(input(\"enter second number...\"))\n",
    "c = a + b\n",
    "print(c)"
   ]
  },
  {
   "cell_type": "code",
   "execution_count": null,
   "metadata": {},
   "outputs": [],
   "source": []
  }
 ],
 "metadata": {
  "kernelspec": {
   "display_name": "Python 3",
   "language": "python",
   "name": "python3"
  },
  "language_info": {
   "codemirror_mode": {
    "name": "ipython",
    "version": 3
   },
   "file_extension": ".py",
   "mimetype": "text/x-python",
   "name": "python",
   "nbconvert_exporter": "python",
   "pygments_lexer": "ipython3",
   "version": "3.7.4"
  }
 },
 "nbformat": 4,
 "nbformat_minor": 2
}
