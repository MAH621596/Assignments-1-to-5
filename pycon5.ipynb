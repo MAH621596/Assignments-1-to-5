{
 "cells": [
  {
   "cell_type": "code",
   "execution_count": 1,
   "metadata": {},
   "outputs": [
    {
     "name": "stdout",
     "output_type": "stream",
     "text": [
      "Factorial of  6 is  720\n"
     ]
    }
   ],
   "source": [
    "num = 6\n",
    "def fac(n):\n",
    "    factorial = 1\n",
    "    if num < 0:\n",
    "        print(\"sorry ! factorial of a negativer number doesn't exist...\")\n",
    "    elif num ==0 :\n",
    "        print(\"factorial of 0 is 1 \")\n",
    "    else :\n",
    "        for i in range(1, num +1):\n",
    "            factorial = factorial * i\n",
    "        print(\"Factorial of \" , num ,\"is \", factorial )\n",
    "fac(num)        \n",
    "\n"
   ]
  },
  {
   "cell_type": "code",
   "execution_count": 23,
   "metadata": {},
   "outputs": [
    {
     "name": "stdout",
     "output_type": "stream",
     "text": [
      "Original String :  The quick Brown Fox\n",
      "No. of Upper case characters :  3\n",
      "No. of Lower case Characters :  13\n"
     ]
    }
   ],
   "source": [
    "def string_test(s):\n",
    "    d={\"UPPER_CASE\":0, \"LOWER_CASE\":0}\n",
    "    for c in s:\n",
    "        if c.isupper():\n",
    "           d[\"UPPER_CASE\"]+=1\n",
    "        elif c.islower():\n",
    "           d[\"LOWER_CASE\"]+=1\n",
    "        else:\n",
    "            pass\n",
    "    print (\"Original String : \", s)\n",
    "    print (\"No. of Upper case characters : \", d[\"UPPER_CASE\"])\n",
    "    print (\"No. of Lower case Characters : \", d[\"LOWER_CASE\"])\n",
    "string_test('The quick Brown Fox')"
   ]
  },
  {
   "cell_type": "code",
   "execution_count": 33,
   "metadata": {},
   "outputs": [
    {
     "name": "stdout",
     "output_type": "stream",
     "text": [
      "[44, 76, 98, 70, 60, 34, 22]\n"
     ]
    }
   ],
   "source": [
    "def even(l):\n",
    "    list =[]\n",
    "    for n in l :\n",
    "        if n % 2 == 0 :\n",
    "            list.append(n)\n",
    "    return list\n",
    "    \n",
    "print(even([44,76,98,70,60,55,34,22]))           \n"
   ]
  },
  {
   "cell_type": "code",
   "execution_count": 40,
   "metadata": {},
   "outputs": [
    {
     "name": "stdout",
     "output_type": "stream",
     "text": [
      "True\n"
     ]
    }
   ],
   "source": [
    "#word = civic\n",
    "def palindrome(word):\n",
    "    print(word[::-1]==word[::1])\n",
    "    \n",
    "palindrome(\"civic\")    \n"
   ]
  },
  {
   "cell_type": "code",
   "execution_count": 44,
   "metadata": {},
   "outputs": [
    {
     "name": "stdout",
     "output_type": "stream",
     "text": [
      "prime number\n"
     ]
    }
   ],
   "source": [
    "n=3\n",
    "def prime(a):\n",
    "    for i in range(2,n) :\n",
    "        if n % i == 0 :\n",
    "            print(\"not a prime number\")\n",
    "            break \n",
    "        else :\n",
    "            print(\"prime number\")\n",
    "prime(n)    "
   ]
  },
  {
   "cell_type": "code",
   "execution_count": 45,
   "metadata": {},
   "outputs": [
    {
     "name": "stdout",
     "output_type": "stream",
     "text": [
      "ITEMS that u've purchased... Rings\n",
      "ITEMS that u've purchased... Bag\n",
      "ITEMS that u've purchased... Dress\n",
      "ITEMS that u've purchased... Shoes\n",
      "ITEMS that u've purchased... Necklace\n",
      "ITEMS that u've purchased... Bangles\n"
     ]
    }
   ],
   "source": [
    "def shopping(*names):\n",
    "    for i in names :\n",
    "        print(\"ITEMS that u've purchased...\", i)\n",
    "        \n",
    "shopping(\"Rings\", \"Bag\" , \"Dress\" , \"Shoes\" , \"Necklace\" , \"Bangles\")        "
   ]
  },
  {
   "cell_type": "code",
   "execution_count": null,
   "metadata": {},
   "outputs": [],
   "source": []
  }
 ],
 "metadata": {
  "kernelspec": {
   "display_name": "Python 3",
   "language": "python",
   "name": "python3"
  },
  "language_info": {
   "codemirror_mode": {
    "name": "ipython",
    "version": 3
   },
   "file_extension": ".py",
   "mimetype": "text/x-python",
   "name": "python",
   "nbconvert_exporter": "python",
   "pygments_lexer": "ipython3",
   "version": "3.7.4"
  }
 },
 "nbformat": 4,
 "nbformat_minor": 2
}
