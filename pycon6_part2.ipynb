{
 "cells": [
  {
   "cell_type": "code",
   "execution_count": 16,
   "metadata": {},
   "outputs": [
    {
     "name": "stdout",
     "output_type": "stream",
     "text": [
      "2019 old\n",
      "2022 modified \n",
      "\n",
      "Black old\n",
      "BlackWhite new color \n",
      "\n",
      "20 lacs old\n",
      "70 lacs modified! \n",
      "\n",
      "CIVIC\n",
      "TOYOTA DAIHATSU\n"
     ]
    }
   ],
   "source": [
    "class Car():\n",
    "    def __init__(self,model,color,name,price,company):\n",
    "        self.model = model\n",
    "        self.color = color\n",
    "        self.name = name\n",
    "        self.price = price\n",
    "        self.company = company\n",
    "    def upmodel(self,newmodel):\n",
    "        self.model = newmodel\n",
    "    def changeclr(self,new_col):\n",
    "        self.color += new_col\n",
    "    def chprice(self,newprice):\n",
    "        self.price = newprice\n",
    "    \n",
    "c1 = Car('2019','Black','CIVIC','20 lacs','TOYOTA DAIHATSU')\n",
    "print(c1.model ,\"old\")\n",
    "c1.upmodel(\"2022\")\n",
    "print(c1.model,\"modified \\n\")\n",
    "\n",
    "print(c1.color,\"old\")\n",
    "c1.changeclr(\"White\")\n",
    "print(c1.color,\"new color \\n\")\n",
    "\n",
    "print(c1.price,\"old\")\n",
    "c1.chprice(\"70 lacs\")\n",
    "print(c1.price,\"modified! \\n\")\n",
    "\n",
    "\n",
    "##print(c1.model)\n",
    "##print(c1.color)\n",
    "print(c1.name)\n",
    "###print(c1.price)\n",
    "print(c1.company)"
   ]
  },
  {
   "cell_type": "code",
   "execution_count": null,
   "metadata": {},
   "outputs": [],
   "source": []
  }
 ],
 "metadata": {
  "kernelspec": {
   "display_name": "Python 3",
   "language": "python",
   "name": "python3"
  },
  "language_info": {
   "codemirror_mode": {
    "name": "ipython",
    "version": 3
   },
   "file_extension": ".py",
   "mimetype": "text/x-python",
   "name": "python",
   "nbconvert_exporter": "python",
   "pygments_lexer": "ipython3",
   "version": "3.7.4"
  }
 },
 "nbformat": 4,
 "nbformat_minor": 2
}
