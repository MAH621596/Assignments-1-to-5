{
 "cells": [
  {
   "cell_type": "code",
   "execution_count": 8,
   "metadata": {},
   "outputs": [
    {
     "name": "stdout",
     "output_type": "stream",
     "text": [
      "enter the number to identify whether its is even or odd....9\n",
      "it's odd\n",
      "9\n"
     ]
    }
   ],
   "source": [
    "a = int(input(\"enter the number to identify whether its is even or odd....\"))\n",
    "if a % 2 == 0 :\n",
    "    print(\"it's even\")\n",
    "else :\n",
    "    print(\"it's odd\")\n",
    "print(a)"
   ]
  },
  {
   "cell_type": "code",
   "execution_count": 22,
   "metadata": {},
   "outputs": [
    {
     "name": "stdout",
     "output_type": "stream",
     "text": [
      "enter marks of subject 1  90\n",
      "enter marks of subject 2  89\n",
      "enter marks of subject 3  88\n",
      "enter marks of subject 4  97\n",
      "enter marks of subject 5  99\n",
      "A+\n",
      "92.60000000000001  %\n"
     ]
    }
   ],
   "source": [
    "a= int(input(\"enter marks of subject 1  \"))\n",
    "b= int(input(\"enter marks of subject 2  \"))\n",
    "c= int(input(\"enter marks of subject 3  \"))\n",
    "d= int(input(\"enter marks of subject 4  \"))\n",
    "e= int(input(\"enter marks of subject 5  \"))\n",
    "t = a + b + c + d + e\n",
    "m =  ( t / 500 ) * 100\n",
    "if m >= 80 and m <= 100 :\n",
    "   print(\"A+\")\n",
    "elif m >= 60 and m <= 70 :\n",
    "   print(\"B\")\n",
    "elif m >= 40 and m <=50 :\n",
    "   print(\"C\")\n",
    "else :\n",
    "   print(\"fail\")\n",
    "print(m ,\"%\")"
   ]
  },
  {
   "cell_type": "code",
   "execution_count": 27,
   "metadata": {},
   "outputs": [
    {
     "name": "stdout",
     "output_type": "stream",
     "text": [
      "\n",
      " list = [11, 55, 88, 99, 76, 65]\n",
      "\n",
      " the length is...  6\n"
     ]
    }
   ],
   "source": [
    "list = [11, 55, 88, 99, 76, 65]\n",
    "print(\"\\n list =\" , list)\n",
    "print(\"\\n the length is... \", len(list))\n",
    "\n"
   ]
  },
  {
   "cell_type": "code",
   "execution_count": 28,
   "metadata": {},
   "outputs": [
    {
     "name": "stdout",
     "output_type": "stream",
     "text": [
      "Please enter the Total Number of List Elements : 4\n",
      "Please enter the Value of 1 Element : 7\n",
      "Please enter the Value of 2 Element : 9\n",
      "Please enter the Value of 3 Element : 6\n",
      "Please enter the Value of 4 Element : 4\n",
      "\n",
      " The Sum of All Element in this List is :  26\n"
     ]
    }
   ],
   "source": [
    "NumList = []\n",
    "\n",
    "Number = int(input(\"Please enter the Total Number of List Elements : \"))\n",
    "for i in range(1, Number + 1):\n",
    "    value = int(input(\"Please enter the Value of %d Element : \" %i))\n",
    "    NumList.append(value)\n",
    "\n",
    "total = sum(NumList)\n",
    "\n",
    "print(\"\\n The Sum of All Element in this List is : \", total)"
   ]
  },
  {
   "cell_type": "code",
   "execution_count": 31,
   "metadata": {},
   "outputs": [
    {
     "name": "stdout",
     "output_type": "stream",
     "text": [
      "The Largest Element in this List is :  5000\n"
     ]
    }
   ],
   "source": [
    "a = [10, 5000, 60, 800, 20, 15]\n",
    "\n",
    "print(\"The Largest Element in this List is : \", max(a))"
   ]
  },
  {
   "cell_type": "code",
   "execution_count": 34,
   "metadata": {},
   "outputs": [
    {
     "name": "stdout",
     "output_type": "stream",
     "text": [
      "1\n",
      "1\n",
      "2\n",
      "3\n"
     ]
    }
   ],
   "source": [
    "a = [1, 1, 2, 3, 5, 8, 13, 21, 34, 55, 89]\n",
    "\n",
    "for i in a:\n",
    "\n",
    "    if i < 5:\n",
    "\n",
    "        print(i)"
   ]
  },
  {
   "cell_type": "code",
   "execution_count": null,
   "metadata": {},
   "outputs": [],
   "source": []
  }
 ],
 "metadata": {
  "kernelspec": {
   "display_name": "Python 3",
   "language": "python",
   "name": "python3"
  },
  "language_info": {
   "codemirror_mode": {
    "name": "ipython",
    "version": 3
   },
   "file_extension": ".py",
   "mimetype": "text/x-python",
   "name": "python",
   "nbconvert_exporter": "python",
   "pygments_lexer": "ipython3",
   "version": "3.7.4"
  }
 },
 "nbformat": 4,
 "nbformat_minor": 2
}
