{
 "cells": [
  {
   "cell_type": "code",
   "execution_count": 4,
   "metadata": {},
   "outputs": [
    {
     "name": "stdout",
     "output_type": "stream",
     "text": [
      "enter operator...**\n",
      "enter first value4\n",
      "enter second value3\n",
      "enter operator...**\n",
      "64 answer\n"
     ]
    }
   ],
   "source": [
    "operator = input(\"enter operator...\")\n",
    "val1 = input(\"enter first value\")\n",
    "val2 = input(\"enter second value\")\n",
    "operator = input(\"enter operator...\")\n",
    "val1 = int(val1)\n",
    "val2 = int(val2)\n",
    "\n",
    "if operator == '+' :\n",
    "  val = val1 + val2\n",
    "  print(val, 'answer')\n",
    "elif operator == '-' :\n",
    "  val = val1 - val2\n",
    "  print(val, 'answer')\n",
    "elif operator == '*' :\n",
    "  val = val1 * val2\n",
    "  print(val, 'answer')\n",
    "elif operator == '/' :\n",
    "  val = val1 / val2\n",
    "  print(val, 'answer')\n",
    "elif operator == '**' :\n",
    "  val = val1 ** val2\n",
    "  print(val, 'answer')\n",
    "else :\n",
    "  print(\"enter correct operator\")\n",
    "   "
   ]
  },
  {
   "cell_type": "code",
   "execution_count": 5,
   "metadata": {},
   "outputs": [
    {
     "name": "stdout",
     "output_type": "stream",
     "text": [
      "Checking if 4 exists in list ( using loop ) : \n",
      "Element Exists\n",
      "Checking if 4 exists in list ( using in ) : \n",
      "Element Exists\n"
     ]
    }
   ],
   "source": [
    "test_list = [ 'ramada','hotel','hyundai' , 4 ] \n",
    "  \n",
    "print(\"Checking if 4 exists in list ( using loop ) : \") \n",
    "  \n",
    "# Checking if 4 exists in list  \n",
    "# using loop \n",
    "for i in test_list: \n",
    "    if(i == 4) : \n",
    "        print (\"Element Exists\") \n",
    "  \n",
    "print(\"Checking if 4 exists in list ( using in ) : \") \n",
    "  \n",
    "# Checking if 4 exists in list  \n",
    "# using in \n",
    "if (4 in test_list): \n",
    "    print (\"Element Exists\") "
   ]
  },
  {
   "cell_type": "code",
   "execution_count": 7,
   "metadata": {},
   "outputs": [
    {
     "name": "stdout",
     "output_type": "stream",
     "text": [
      "{'first name': 'David', 'last name': 'Elliott', 'address': '4803 Wellesley St.', 'OOPS': 'INHERITANCE'}\n"
     ]
    }
   ],
   "source": [
    "customer = {\"first name\": \"David\", \"last name\": \"Elliott\", \"address\": \"4803 Wellesley St.\"} \n",
    "customer['OOPS'] = \"INHERITANCE\"\n",
    "print(customer)"
   ]
  },
  {
   "cell_type": "code",
   "execution_count": 9,
   "metadata": {},
   "outputs": [
    {
     "name": "stdout",
     "output_type": "stream",
     "text": [
      "sum :  700\n"
     ]
    }
   ],
   "source": [
    "def returnsum(dict) :\n",
    "    sum =0\n",
    "    for i in dict.values():\n",
    "        sum = sum + i\n",
    "        \n",
    "    return sum \n",
    "dict = {'M' : 200 ,'G' :200 , 'S' : 300}\n",
    "print(\"sum : \", returnsum(dict))"
   ]
  },
  {
   "cell_type": "code",
   "execution_count": 18,
   "metadata": {},
   "outputs": [
    {
     "name": "stdout",
     "output_type": "stream",
     "text": [
      "Duplicate values:  [4]\n",
      "Unique Values:  [1, 4, 2, 3]\n"
     ]
    }
   ],
   "source": [
    "def dup(x):\n",
    "    duplicate = []\n",
    "    unique = []\n",
    "    for i in x:\n",
    "        if i in unique:\n",
    "            duplicate.append(i)\n",
    "        else:\n",
    "            unique.append(i)\n",
    "    print(\"Duplicate values: \",duplicate)\n",
    "    print(\"Unique Values: \",unique)\n",
    "\n",
    "list1 = [1,4 ,2,3,4]\n",
    "dup(list1)"
   ]
  },
  {
   "cell_type": "code",
   "execution_count": 21,
   "metadata": {},
   "outputs": [
    {
     "name": "stdout",
     "output_type": "stream",
     "text": [
      "Present,  value = 100\n",
      "Not present\n"
     ]
    }
   ],
   "source": [
    "def checkKey(dict, key): \n",
    "      \n",
    "    if key in dict.keys(): \n",
    "        print(\"Present, \", end =\" \") \n",
    "        print(\"value =\", dict[key]) \n",
    "    else: \n",
    "        print(\"Not present\") \n",
    "  \n",
    " # Driver Code \n",
    "dict = {'a': 100, 'b':200, 'c':300} \n",
    "  \n",
    "key = 'a'\n",
    "checkKey(dict, key) \n",
    "  \n",
    "key = 'w'\n",
    "checkKey(dict, key) "
   ]
  },
  {
   "cell_type": "code",
   "execution_count": null,
   "metadata": {},
   "outputs": [],
   "source": []
  },
  {
   "cell_type": "code",
   "execution_count": null,
   "metadata": {},
   "outputs": [],
   "source": []
  }
 ],
 "metadata": {
  "kernelspec": {
   "display_name": "Python 3",
   "language": "python",
   "name": "python3"
  },
  "language_info": {
   "codemirror_mode": {
    "name": "ipython",
    "version": 3
   },
   "file_extension": ".py",
   "mimetype": "text/x-python",
   "name": "python",
   "nbconvert_exporter": "python",
   "pygments_lexer": "ipython3",
   "version": "3.7.4"
  }
 },
 "nbformat": 4,
 "nbformat_minor": 2
}
