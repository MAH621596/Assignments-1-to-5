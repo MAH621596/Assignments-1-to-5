{
 "cells": [
  {
   "cell_type": "code",
   "execution_count": 1,
   "metadata": {},
   "outputs": [
    {
     "name": "stdout",
     "output_type": "stream",
     "text": [
      "HUDA\n",
      "KHAN\n",
      "26\n",
      "karachi\n",
      "{'first name': 'HUDA', 'last name': 'KHAN', 'age': '26', 'city': 'karachi', 'Qualification': 'Academic level'}\n",
      "{'first name': 'HUDA', 'last name': 'KHAN', 'age': '26', 'city': 'karachi'}\n"
     ]
    }
   ],
   "source": [
    "customer = {\"first name\": \"HUDA\", \"last name\": \"KHAN\", \"age\": \"26\", \"city\" :\"karachi\"}\n",
    "print(customer[\"first name\"])\n",
    "print(customer[\"last name\"])\n",
    "print(customer[\"age\"])\n",
    "print(customer[\"city\"])\n",
    "customer[\"Qualification\"] = \"Academic level\"\n",
    "print(customer)\n",
    "del customer[\"Qualification\"]\n",
    "print(customer)"
   ]
  },
  {
   "cell_type": "code",
   "execution_count": 2,
   "metadata": {},
   "outputs": [
    {
     "name": "stdout",
     "output_type": "stream",
     "text": [
      "{'country': 'chile', 'population': 6158080, 'nearby mountains': 'andes'}\n",
      "{'country': 'alaska', 'population': 876, 'nearby mountains': 'alaska range'}\n",
      "{'country': 'nepal', 'population': 1003285, 'nearby mountains': 'himilaya'}\n"
     ]
    }
   ],
   "source": [
    "cities = {\n",
    "    'santiago': {\n",
    "        'country': 'chile',\n",
    "        'population': 6158080,\n",
    "        'nearby mountains': 'andes',\n",
    "        },\n",
    "    'talkeetna': {\n",
    "        'country': 'alaska',\n",
    "        'population': 876,\n",
    "        'nearby mountains': 'alaska range',\n",
    "        },\n",
    "    'kathmandu': {\n",
    "        'country': 'nepal',\n",
    "        'population': 1003285,\n",
    "        'nearby mountains': 'himilaya',\n",
    "        }\n",
    "    }\n",
    " #for i in cities :\n",
    "print(cities[\"santiago\"])\n",
    "print(cities[\"talkeetna\"])\n",
    "print(cities[\"kathmandu\"])"
   ]
  },
  {
   "cell_type": "code",
   "execution_count": 3,
   "metadata": {},
   "outputs": [
    {
     "name": "stdout",
     "output_type": "stream",
     "text": [
      "\n",
      "How old are you?\n",
      "Enter 'quit' to finish. \n",
      ":20\n",
      "Ticket price is: 15$\n",
      "\n",
      "How old are you?\n",
      "Enter 'quit' to finish. \n",
      ":quit\n"
     ]
    }
   ],
   "source": [
    "prompt = \"\\nHow old are you?\"\n",
    "prompt += \"\\nEnter 'quit' to finish. \\n:\"\n",
    "message = 'Ticket price is: '\n",
    "\n",
    "while True:\n",
    "    age = input(prompt)\n",
    "    if age == 'quit':\n",
    "        break\n",
    "    age = int(age)\n",
    "\n",
    "    if age < 3:\n",
    "        print(message + \"0$.\")\n",
    "    elif age < 13:\n",
    "        print(message + \"10$.\")\n",
    "    else:\n",
    "        print(message + \"15$\")"
   ]
  },
  {
   "cell_type": "code",
   "execution_count": 4,
   "metadata": {},
   "outputs": [
    {
     "name": "stdout",
     "output_type": "stream",
     "text": [
      "ALice in Wonderland is one of my favorite books...\n"
     ]
    }
   ],
   "source": [
    "def favorite_book(title):\n",
    "    print(title + \" is one of my favorite books...\")\n",
    "    \n",
    "favorite_book('ALice in Wonderland')\n"
   ]
  },
  {
   "cell_type": "code",
   "execution_count": null,
   "metadata": {},
   "outputs": [
    {
     "name": "stdout",
     "output_type": "stream",
     "text": [
      "Guess a number between 1 and 30 until you get it right : 29\n",
      "Guess a number between 1 and 30 until you get it right : 20\n",
      "Guess a number between 1 and 30 until you get it right : 6\n",
      "Guess a number between 1 and 30 until you get it right : 12\n",
      "Guess a number between 1 and 30 until you get it right : 27\n"
     ]
    }
   ],
   "source": [
    "import random\n",
    "target_num, guess_num = random.randint(1, 30), 0\n",
    "while target_num != guess_num:\n",
    "    guess_num = int(input('Guess a number between 1 and 30 until you get it right : '))\n",
    "print('Well guessed!')"
   ]
  },
  {
   "cell_type": "code",
   "execution_count": null,
   "metadata": {},
   "outputs": [],
   "source": []
  }
 ],
 "metadata": {
  "kernelspec": {
   "display_name": "Python 3",
   "language": "python",
   "name": "python3"
  },
  "language_info": {
   "codemirror_mode": {
    "name": "ipython",
    "version": 3
   },
   "file_extension": ".py",
   "mimetype": "text/x-python",
   "name": "python",
   "nbconvert_exporter": "python",
   "pygments_lexer": "ipython3",
   "version": "3.7.4"
  }
 },
 "nbformat": 4,
 "nbformat_minor": 2
}
